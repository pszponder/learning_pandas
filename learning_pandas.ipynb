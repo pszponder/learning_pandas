{
 "cells": [
  {
   "cell_type": "markdown",
   "metadata": {},
   "source": [
    "# Learning Pandas"
   ]
  },
  {
   "cell_type": "markdown",
   "metadata": {},
   "source": [
    "## Loading Data into a DataFrame"
   ]
  },
  {
   "cell_type": "code",
   "execution_count": 6,
   "metadata": {},
   "outputs": [],
   "source": [
    "import pandas as pd\n",
    "\n",
    "# Load local CSV file into DataFrame\n",
    "pokemon_df = pd.read_csv(\"pokemon.csv\")"
   ]
  },
  {
   "cell_type": "markdown",
   "metadata": {},
   "source": [
    "## Getting Information About a DataFrame"
   ]
  },
  {
   "cell_type": "code",
   "execution_count": 7,
   "metadata": {},
   "outputs": [
    {
     "name": "stdout",
     "output_type": "stream",
     "text": [
      "<class 'pandas.core.frame.DataFrame'>\n",
      "RangeIndex: 898 entries, 0 to 897\n",
      "Data columns (total 55 columns):\n",
      " #   Column              Non-Null Count  Dtype  \n",
      "---  ------              --------------  -----  \n",
      " 0   national_number     898 non-null    int64  \n",
      " 1   gen                 898 non-null    object \n",
      " 2   english_name        898 non-null    object \n",
      " 3   japanese_name       898 non-null    object \n",
      " 4   primary_type        898 non-null    object \n",
      " 5   secondary_type      469 non-null    object \n",
      " 6   classification      898 non-null    object \n",
      " 7   percent_male        776 non-null    object \n",
      " 8   percent_female      776 non-null    object \n",
      " 9   height_m            898 non-null    float64\n",
      " 10  weight_kg           898 non-null    float64\n",
      " 11  capture_rate        898 non-null    object \n",
      " 12  base_egg_steps      898 non-null    int64  \n",
      " 13  hp                  898 non-null    int64  \n",
      " 14  attack              898 non-null    int64  \n",
      " 15  defense             898 non-null    int64  \n",
      " 16  sp_attack           898 non-null    int64  \n",
      " 17  sp_defense          898 non-null    int64  \n",
      " 18  speed               898 non-null    int64  \n",
      " 19  abilities_0         898 non-null    object \n",
      " 20  abilities_1         495 non-null    object \n",
      " 21  abilities_2         3 non-null      object \n",
      " 22  abilities_hidden    763 non-null    object \n",
      " 23  against_normal      898 non-null    float64\n",
      " 24  against_fire        898 non-null    float64\n",
      " 25  against_water       898 non-null    float64\n",
      " 26  against_electric    898 non-null    float64\n",
      " 27  against_grass       898 non-null    float64\n",
      " 28  against_ice         898 non-null    float64\n",
      " 29  against_fighting    898 non-null    float64\n",
      " 30  against_poison      898 non-null    float64\n",
      " 31  against_ground      898 non-null    float64\n",
      " 32  against_flying      898 non-null    float64\n",
      " 33  against_psychic     898 non-null    float64\n",
      " 34  against_bug         898 non-null    float64\n",
      " 35  against_rock        898 non-null    float64\n",
      " 36  against_ghost       898 non-null    float64\n",
      " 37  against_dragon      898 non-null    float64\n",
      " 38  against_dark        898 non-null    float64\n",
      " 39  against_steel       898 non-null    float64\n",
      " 40  against_fairy       898 non-null    float64\n",
      " 41  is_sublegendary     898 non-null    int64  \n",
      " 42  is_legendary        898 non-null    int64  \n",
      " 43  is_mythical         898 non-null    int64  \n",
      " 44  evochain_0          898 non-null    object \n",
      " 45  evochain_1          728 non-null    object \n",
      " 46  evochain_2          728 non-null    object \n",
      " 47  evochain_3          335 non-null    object \n",
      " 48  evochain_4          332 non-null    object \n",
      " 49  evochain_5          19 non-null     object \n",
      " 50  evochain_6          19 non-null     object \n",
      " 51  gigantamax          31 non-null     object \n",
      " 52  mega_evolution      46 non-null     object \n",
      " 53  mega_evolution_alt  2 non-null      object \n",
      " 54  description         898 non-null    object \n",
      "dtypes: float64(20), int64(11), object(24)\n",
      "memory usage: 386.0+ KB\n"
     ]
    }
   ],
   "source": [
    "# Get info about a DataFrame\n",
    "pokemon_df.info()"
   ]
  },
  {
   "cell_type": "code",
   "execution_count": 8,
   "metadata": {},
   "outputs": [
    {
     "name": "stdout",
     "output_type": "stream",
     "text": [
      "Shape of pokemon_df: (898, 55)\n"
     ]
    }
   ],
   "source": [
    "# Get Shape (Number of Rows and Columns) of DataFrame\n",
    "shape = pokemon_df.shape\n",
    "print(f\"Shape of pokemon_df: {shape}\")\n",
    "print(f\"Number of Rows: {shape[0]}\")\n",
    "print(f\"Number of Columns: {shape[1]}\")"
   ]
  },
  {
   "cell_type": "code",
   "execution_count": null,
   "metadata": {},
   "outputs": [],
   "source": [
    "# Sample 1st 5 rows of data from the DataFrame\n",
    "pokemon_df.head()"
   ]
  },
  {
   "cell_type": "code",
   "execution_count": null,
   "metadata": {},
   "outputs": [],
   "source": [
    "# Sample 1st n rows of a DataFrame\n",
    "n = 3\n",
    "pokemon_df.head(n)"
   ]
  },
  {
   "cell_type": "code",
   "execution_count": null,
   "metadata": {},
   "outputs": [],
   "source": []
  }
 ],
 "metadata": {
  "kernelspec": {
   "display_name": ".venv",
   "language": "python",
   "name": "python3"
  },
  "language_info": {
   "codemirror_mode": {
    "name": "ipython",
    "version": 3
   },
   "file_extension": ".py",
   "mimetype": "text/x-python",
   "name": "python",
   "nbconvert_exporter": "python",
   "pygments_lexer": "ipython3",
   "version": "3.12.4"
  }
 },
 "nbformat": 4,
 "nbformat_minor": 2
}
