{
 "cells": [
  {
   "cell_type": "markdown",
   "metadata": {},
   "source": [
    "# Pandas Series\n",
    "\n",
    "## What is a Pandas Series?\n",
    "\n",
    "- A Pandas Series is a one-dimensional array-like object containing data of any type.\n",
    "- Each element in a Pandas Series is called an \"item\".\n",
    "- Each item in a Pandas Series is associated with an index (integers by default)\n",
    "\n",
    "## Axis Labels\n",
    "\n",
    "- An Axis label is the name of a column or row\n",
    "- A Pandas Series has only one axis label, which is the index axis (unlike a DataFrame which have both rows and column axis)\n",
    "- The axis label can be useful for clarity when manipulating or describing the Series\n",
    "- The axis label is defined using the \"name\" attribute\n",
    "\n",
    "## Label Index (Index)\n",
    "\n",
    "- A label index refers to the label of each item in the Series\n",
    "- These labels can be used to access each item in the Series\n",
    "- By default, the index is an integer sequence starting at 0"
   ]
  },
  {
   "cell_type": "markdown",
   "metadata": {},
   "source": [
    "## Creating a Pandas Series"
   ]
  },
  {
   "cell_type": "markdown",
   "metadata": {},
   "source": [
    "### Creating an Empty Pandas Series"
   ]
  },
  {
   "cell_type": "code",
   "execution_count": 1,
   "metadata": {},
   "outputs": [
    {
     "name": "stdout",
     "output_type": "stream",
     "text": [
      "Series([], dtype: object)\n",
      "Series([], dtype: int64)\n",
      "Series([], dtype: object)\n"
     ]
    }
   ],
   "source": [
    "import pandas as pd\n",
    "\n",
    "# 1. Create an empty series\n",
    "s_empty = pd.Series()\n",
    "print(s_empty)\n",
    "\n",
    "# 2. Create an empty series but specify the data type\n",
    "s_empty_int = pd.Series([], dtype=\"int64\")\n",
    "print(s_empty_int)\n",
    "\n",
    "s_empty_str = pd.Series([], dtype=\"str\")\n",
    "print(s_empty_str)"
   ]
  },
  {
   "cell_type": "markdown",
   "metadata": {},
   "source": [
    "### Creating a Series from a Python List"
   ]
  },
  {
   "cell_type": "code",
   "execution_count": 15,
   "metadata": {},
   "outputs": [
    {
     "name": "stdout",
     "output_type": "stream",
     "text": [
      "0    a\n",
      "1    b\n",
      "2    c\n",
      "3    d\n",
      "4    e\n",
      "dtype: object\n",
      "a    10\n",
      "b    20\n",
      "c    30\n",
      "d    40\n",
      "e    50\n",
      "dtype: int64\n"
     ]
    }
   ],
   "source": [
    "import pandas as pd\n",
    "\n",
    "# Create a series from a list, index is 0, 1, 2, 3, 4, ... by default\n",
    "data = [\"a\", \"b\", \"c\", \"d\", \"e\"]\n",
    "s = pd.Series(data)\n",
    "\n",
    "print(s)\n",
    "\n",
    "# In this example, specify the index to be [0, 1, 2, 3, 4]\n",
    "# NOTE: The index length must be equal to the data length\n",
    "data2 = [10, 20, 30, 40, 50]\n",
    "idx = [\"a\", \"b\", \"c\", \"d\", \"e\"]\n",
    "s2 = pd.Series(data2, index=idx)\n",
    "\n",
    "print(s2)"
   ]
  },
  {
   "cell_type": "markdown",
   "metadata": {},
   "source": [
    "### Creating a Series from a Python Dictionary\n",
    "\n",
    "When you pass a dictionary to the `Series` constructor, the keys become the index and the values become the items in the series."
   ]
  },
  {
   "cell_type": "code",
   "execution_count": 17,
   "metadata": {},
   "outputs": [
    {
     "name": "stdout",
     "output_type": "stream",
     "text": [
      "a    10\n",
      "b    20\n",
      "c    30\n",
      "d    40\n",
      "dtype: int64\n"
     ]
    }
   ],
   "source": [
    "import pandas as pd\n",
    "\n",
    "# Python dictionary\n",
    "data = {\"a\": 10, \"b\": 20, \"c\": 30, \"d\": 40}\n",
    "\n",
    "# Creating a Series from the dictionary\n",
    "series = pd.Series(data)\n",
    "\n",
    "print(series)"
   ]
  },
  {
   "cell_type": "code",
   "execution_count": 18,
   "metadata": {},
   "outputs": [
    {
     "name": "stdout",
     "output_type": "stream",
     "text": [
      "a    10\n",
      "b    20\n",
      "c    30\n",
      "d    40\n",
      "Name: Example Series, dtype: int64\n"
     ]
    }
   ],
   "source": [
    "import pandas as pd\n",
    "\n",
    "# Python dictionary\n",
    "data = {\"a\": 10, \"b\": 20, \"c\": 30, \"d\": 40}\n",
    "\n",
    "# Creating a Series with a name\n",
    "# The name acts as an axis label\n",
    "series = pd.Series(data, name=\"Example Series\")\n",
    "\n",
    "print(series)"
   ]
  },
  {
   "cell_type": "markdown",
   "metadata": {},
   "source": [
    "## Creating Other Data Structures from Pandas Series"
   ]
  },
  {
   "cell_type": "markdown",
   "metadata": {},
   "source": [
    "### Convert a Pandas Series to a Python List"
   ]
  },
  {
   "cell_type": "code",
   "execution_count": 44,
   "metadata": {},
   "outputs": [
    {
     "name": "stdout",
     "output_type": "stream",
     "text": [
      "[10, 20, 30, 40]\n"
     ]
    }
   ],
   "source": [
    "import pandas as pd\n",
    "\n",
    "# Creating a pandas Series\n",
    "data = [10, 20, 30, 40]\n",
    "series = pd.Series(data)\n",
    "\n",
    "# Converting the Series back to a Python list\n",
    "data_list = series.tolist()\n",
    "\n",
    "print(data_list)"
   ]
  },
  {
   "cell_type": "markdown",
   "metadata": {},
   "source": [
    "### Convert a Pandas Series to a Python Dictionary"
   ]
  },
  {
   "cell_type": "code",
   "execution_count": 46,
   "metadata": {},
   "outputs": [
    {
     "name": "stdout",
     "output_type": "stream",
     "text": [
      "{'a': 10, 'b': 20, 'c': 30, 'd': 40}\n"
     ]
    }
   ],
   "source": [
    "import pandas as pd\n",
    "\n",
    "# Creating a pandas Series\n",
    "data = [10, 20, 30, 40]\n",
    "index = [\"a\", \"b\", \"c\", \"d\"]\n",
    "series = pd.Series(data, index=index)\n",
    "\n",
    "# Converting the Series to a Python dictionary\n",
    "#  The index becomes the dictionary keys\n",
    "#  The values become the dictionary values\n",
    "data_dict = series.to_dict()\n",
    "\n",
    "print(data_dict)"
   ]
  },
  {
   "cell_type": "markdown",
   "metadata": {},
   "source": [
    "### Convert a Pandas Series to a Pandas DataFrame"
   ]
  },
  {
   "cell_type": "code",
   "execution_count": 52,
   "metadata": {},
   "outputs": [
    {
     "name": "stdout",
     "output_type": "stream",
     "text": [
      "   Values\n",
      "a      10\n",
      "b      20\n",
      "c      30\n",
      "d      40\n"
     ]
    }
   ],
   "source": [
    "import pandas as pd\n",
    "\n",
    "# Creating a pandas Series\n",
    "data = [10, 20, 30, 40]\n",
    "index = [\"a\", \"b\", \"c\", \"d\"]\n",
    "series = pd.Series(data, index=index)\n",
    "\n",
    "# Converting the Series to a DataFrame\n",
    "axis_label = \"Values\"  # The name of the column (this is optional)\n",
    "df = series.to_frame(name=axis_label)\n",
    "\n",
    "print(df)"
   ]
  },
  {
   "cell_type": "markdown",
   "metadata": {},
   "source": [
    "### Convert Multiple Pandas Series to a Pandas DataFrame"
   ]
  },
  {
   "cell_type": "code",
   "execution_count": 56,
   "metadata": {},
   "outputs": [
    {
     "name": "stdout",
     "output_type": "stream",
     "text": [
      "Series as Rows:\n",
      "    a   b   c\n",
      "0  10  20  30\n",
      "1  40  50  60\n",
      "2  70  80  90\n",
      "\n",
      "Series as Columns:\n",
      "   Column1  Column2  Column3\n",
      "a       10       40       70\n",
      "b       20       50       80\n",
      "c       30       60       90\n"
     ]
    }
   ],
   "source": [
    "import pandas as pd\n",
    "\n",
    "# Creating a list of pandas Series\n",
    "idx = [\"a\", \"b\", \"c\"]\n",
    "series1 = pd.Series([10, 20, 30], index=idx)\n",
    "series2 = pd.Series([40, 50, 60], index=idx)\n",
    "series3 = pd.Series([70, 80, 90], index=idx)\n",
    "\n",
    "# Creating a DataFrame from the list of Series (as rows)\n",
    "df_rows = pd.DataFrame([series1, series2, series3])\n",
    "print(f\"Series as Rows:\\n{df_rows}\\n\")\n",
    "\n",
    "# Creating a DataFrame from the list of Series (as columns)\n",
    "df_columns = pd.DataFrame({\"Column1\": series1, \"Column2\": series2, \"Column3\": series3})\n",
    "print(f\"Series as Columns:\\n{df_columns}\")"
   ]
  },
  {
   "cell_type": "markdown",
   "metadata": {},
   "source": [
    "## Information about the Pandas Series"
   ]
  },
  {
   "cell_type": "markdown",
   "metadata": {},
   "source": [
    "### Basic Information"
   ]
  },
  {
   "cell_type": "code",
   "execution_count": 40,
   "metadata": {},
   "outputs": [
    {
     "name": "stdout",
     "output_type": "stream",
     "text": [
      "The Data Type of the Series is int64\n",
      "The Size of the Series is 11\n",
      "The Shape of the Series is (11,)\n",
      "The Number of Dimensions of the Series is 1\n",
      "First 5 Elements: 0    10\n",
      "1    10\n",
      "2    20\n",
      "3    30\n",
      "4    40\n",
      "dtype: int64\n",
      "First 3 Elements: 0    10\n",
      "1    10\n",
      "2    20\n",
      "dtype: int64\n",
      "Last 5 Elements: 6      60\n",
      "7      70\n",
      "8      80\n",
      "9      90\n",
      "10    100\n",
      "dtype: int64\n",
      "Last 3 Elements: 8      80\n",
      "9      90\n",
      "10    100\n",
      "dtype: int64\n",
      "Unique Values: [ 10  20  30  40  50  60  70  80  90 100]\n",
      "Number of Unique Values: 10\n",
      "Has Null Values: 0     False\n",
      "1     False\n",
      "2     False\n",
      "3     False\n",
      "4     False\n",
      "5     False\n",
      "6     False\n",
      "7     False\n",
      "8     False\n",
      "9     False\n",
      "10    False\n",
      "dtype: bool\n",
      "Has Null Values: False\n"
     ]
    }
   ],
   "source": [
    "import pandas as pd\n",
    "\n",
    "# Create a series from a list\n",
    "data = [10, 10, 20, 30, 40, 50, 60, 70, 80, 90, 100]\n",
    "s = pd.Series(data)\n",
    "\n",
    "# Return data type of the Series\n",
    "dtype = s.dtype\n",
    "print(f\"The Data Type of the Series is {dtype}\")\n",
    "\n",
    "# Return the size of the Series (number of elements)\n",
    "size = s.size\n",
    "print(f\"The Size of the Series is {size}\")\n",
    "\n",
    "# Return the shape of the Series (number of elements in each dimension)\n",
    "shape = s.shape\n",
    "print(f\"The Shape of the Series is {shape}\")\n",
    "\n",
    "# Return the number of dimensions of the Series\n",
    "ndim = s.ndim\n",
    "print(f\"The Number of Dimensions of the Series is {ndim}\")\n",
    "\n",
    "# Return first 5 elements of the Series\n",
    "print(f\"First 5 Elements: {s.head()}\")\n",
    "\n",
    "# Return first n elements of the Series\n",
    "n = 3\n",
    "print(f\"First {n} Elements: {s.head(n)}\")\n",
    "\n",
    "# Return last 5 elements of the Series\n",
    "print(f\"Last 5 Elements: {s.tail()}\")\n",
    "\n",
    "# Return last n elements of the Series\n",
    "n = 3\n",
    "print(f\"Last {n} Elements: {s.tail(n)}\")\n",
    "\n",
    "# Return the unique values of the Series\n",
    "print(f\"Unique Values: {s.unique()}\")\n",
    "\n",
    "# Return the number of unique values of the Series\n",
    "print(f\"Number of Unique Values: {s.nunique()}\")\n",
    "\n",
    "# Return boolean series indicating whether each element is null\n",
    "print(f\"Has Null Values: {s.isnull()}\")\n",
    "\n",
    "# Return boolean mask indicating whether the series has null values\n",
    "print(f\"Has Null Values: {s.isnull().any()}\")"
   ]
  },
  {
   "cell_type": "markdown",
   "metadata": {},
   "source": [
    "### Descriptive Statistics"
   ]
  },
  {
   "cell_type": "code",
   "execution_count": 32,
   "metadata": {},
   "outputs": [
    {
     "name": "stdout",
     "output_type": "stream",
     "text": [
      "Series Description:\n",
      "count     6.000000\n",
      "mean     33.333333\n",
      "std      16.329932\n",
      "min      10.000000\n",
      "25%      22.500000\n",
      "50%      35.000000\n",
      "75%      47.500000\n",
      "max      50.000000\n",
      "dtype: float64\n",
      "Count: 6\n",
      "Null Count: 0\n",
      "Max: 50\n",
      "Min: 10\n",
      "Mean: 33.333333333333336\n",
      "Median: 35.0\n",
      "Mode: 0    50\n",
      "dtype: int64\n",
      "Variance: 266.6666666666667\n",
      "Standard Deviation: 16.32993161855452\n",
      "Skewness: -0.38273277230987224\n",
      "Sum: 200\n",
      "Product: 600000000\n",
      "Cumulative Sum: 0     10\n",
      "1     30\n",
      "2     60\n",
      "3    100\n",
      "4    150\n",
      "5    200\n",
      "dtype: int64\n",
      "Cumulative Product: 0           10\n",
      "1          200\n",
      "2         6000\n",
      "3       240000\n",
      "4     12000000\n",
      "5    600000000\n",
      "dtype: int64\n"
     ]
    }
   ],
   "source": [
    "import pandas as pd\n",
    "\n",
    "# Create a series from a list\n",
    "data = [10, 20, 30, 40, 50, 50]\n",
    "s = pd.Series(data)\n",
    "\n",
    "# Generates description of the Series\n",
    "print(f\"Series Description:\\n{s.describe()}\")\n",
    "\n",
    "# Return the number of non-null values in the Series\n",
    "print(f\"Count: {s.count()}\")\n",
    "\n",
    "# Return the number of null values in the Series\n",
    "print(f\"Null Count: {s.isnull().sum()}\")\n",
    "\n",
    "# Return the maximum value of the Series\n",
    "print(f\"Max: {s.max()}\")\n",
    "\n",
    "# Return the minimum value of the Series\n",
    "print(f\"Min: {s.min()}\")\n",
    "\n",
    "# Return the mean of the Series\n",
    "print(f\"Mean: {s.mean()}\")\n",
    "\n",
    "# Return the median of the Series\n",
    "print(f\"Median: {s.median()}\")\n",
    "\n",
    "# Return the mode of the Series (most common value)\n",
    "print(f\"Mode: {s.mode()}\")\n",
    "\n",
    "# Return the variance of the Series (measure of the spread of the distribution)\n",
    "print(f\"Variance: {s.var()}\")\n",
    "\n",
    "# Return the standard deviation of the Series (measure of the spread of the distribution)\n",
    "print(f\"Standard Deviation: {s.std()}\")\n",
    "\n",
    "# Return the skewness of the Series (measure of the asymmetry of the distribution)\n",
    "print(f\"Skewness: {s.skew()}\")\n",
    "\n",
    "# Return the sum of the Series\n",
    "print(f\"Sum: {s.sum()}\")\n",
    "\n",
    "# Return the product of the Series\n",
    "print(f\"Product: {s.prod()}\")\n",
    "\n",
    "# Return the cumulative sum of the Series\n",
    "print(f\"Cumulative Sum: {s.cumsum()}\")\n",
    "\n",
    "# Return the cumulative product of the Series\n",
    "print(f\"Cumulative Product: {s.cumprod()}\")"
   ]
  },
  {
   "cell_type": "markdown",
   "metadata": {},
   "source": [
    "## Accessing Items in a Pandas Series\n",
    "\n",
    "The items in a Pandas Series can be accessed using their index label."
   ]
  },
  {
   "cell_type": "code",
   "execution_count": 64,
   "metadata": {},
   "outputs": [
    {
     "name": "stdout",
     "output_type": "stream",
     "text": [
      "Value at position 0: a\n",
      "Value at position 1: b\n",
      "Value at position 2: c\n",
      "Value at index 'a': 10\n",
      "Value at index 'b': 20\n",
      "Value at index 'c': 30\n",
      "Value at index 'd': 40\n"
     ]
    }
   ],
   "source": [
    "import pandas as pd\n",
    "\n",
    "# Create a series from a list\n",
    "data = [\"a\", \"b\", \"c\"]\n",
    "s1 = pd.Series(data)\n",
    "v_0 = s1[0]\n",
    "v_1 = s1[1]\n",
    "v_2 = s1[2]\n",
    "\n",
    "# Accessing by index\n",
    "print(f\"Value at index 0: {v_0}\")\n",
    "print(f\"Value at index 1: {v_1}\")\n",
    "print(f\"Value at index 2: {v_2}\")\n",
    "\n",
    "\n",
    "# Creating a pandas Series\n",
    "data = [10, 20, 30, 40]\n",
    "index = [\"a\", \"b\", \"c\", \"d\"]\n",
    "s2 = pd.Series(data, index=index)\n",
    "v_a = s2[\"a\"]\n",
    "v_b = s2[\"b\"]\n",
    "v_c = s2[\"c\"]\n",
    "v_d = s2[\"d\"]\n",
    "# v_e = s2[\"e\"] # KeyError\n",
    "\n",
    "# Accessing by index\n",
    "print(f\"Value at index 'a': {v_a}\")\n",
    "print(f\"Value at index 'b': {v_b}\")\n",
    "print(f\"Value at index 'c': {v_c}\")\n",
    "print(f\"Value at index 'd': {v_d}\")\n",
    "# print(f\"Value at index 'e': {v_e}\") # KeyError"
   ]
  },
  {
   "cell_type": "markdown",
   "metadata": {},
   "source": [
    "You can also access the items in a Pandas Series using their index position."
   ]
  },
  {
   "cell_type": "code",
   "execution_count": 66,
   "metadata": {},
   "outputs": [
    {
     "name": "stdout",
     "output_type": "stream",
     "text": [
      "Value at position 0: 10\n",
      "Value at position 1: 20\n",
      "Value at position 2: 30\n",
      "Value at position 3: 40\n"
     ]
    }
   ],
   "source": [
    "import pandas as pd\n",
    "\n",
    "# Creating a pandas Series\n",
    "data = [10, 20, 30, 40]\n",
    "s = pd.Series(data)\n",
    "v_0 = s.iloc[0]\n",
    "v_1 = s.iloc[1]\n",
    "v_2 = s.iloc[2]\n",
    "v_3 = s.iloc[3]\n",
    "\n",
    "# Accessing by position\n",
    "print(f\"Value at position 0: {v_0}\")\n",
    "print(f\"Value at position 1: {v_1}\")\n",
    "print(f\"Value at position 2: {v_2}\")\n",
    "print(f\"Value at position 3: {v_3}\")"
   ]
  },
  {
   "cell_type": "markdown",
   "metadata": {},
   "source": [
    "## Adding (Concatenating) Items to a Pandas Series"
   ]
  },
  {
   "cell_type": "code",
   "execution_count": 69,
   "metadata": {},
   "outputs": [
    {
     "name": "stdout",
     "output_type": "stream",
     "text": [
      "0    10\n",
      "1    20\n",
      "2    30\n",
      "0    40\n",
      "1    50\n",
      "2    60\n",
      "dtype: int64\n"
     ]
    }
   ],
   "source": [
    "import pandas as pd\n",
    "\n",
    "# Existing Series\n",
    "data1 = [10, 20, 30]\n",
    "data2 = [40, 50, 60]\n",
    "\n",
    "series1 = pd.Series(data1)\n",
    "series2 = pd.Series(data2)\n",
    "\n",
    "# Concatenating two Series\n",
    "concatenated_series = pd.concat([series1, series2])\n",
    "\n",
    "print(concatenated_series)"
   ]
  },
  {
   "cell_type": "code",
   "execution_count": 68,
   "metadata": {},
   "outputs": [
    {
     "name": "stdout",
     "output_type": "stream",
     "text": [
      "a    10\n",
      "b    20\n",
      "c    30\n",
      "a    40\n",
      "b    50\n",
      "c    60\n",
      "dtype: int64\n"
     ]
    }
   ],
   "source": [
    "import pandas as pd\n",
    "\n",
    "# Existing Series\n",
    "data1 = [10, 20, 30]\n",
    "data2 = [40, 50, 60]\n",
    "\n",
    "# Also specify the index\n",
    "index = [\"a\", \"b\", \"c\"]\n",
    "\n",
    "series1 = pd.Series(data1, index=index)\n",
    "series2 = pd.Series(data2, index=index)\n",
    "\n",
    "# Concatenating two Series\n",
    "concatenated_series = pd.concat([series1, series2])\n",
    "\n",
    "print(concatenated_series)"
   ]
  },
  {
   "cell_type": "markdown",
   "metadata": {},
   "source": [
    "## Updating Items in a Pandas Series"
   ]
  },
  {
   "cell_type": "markdown",
   "metadata": {},
   "source": [
    "### Update Items Using Index Labels\n",
    "\n",
    "Use bracket notation to access and update items in a Pandas Series\n",
    "- If the index label does not exist, a new item will be added\n",
    "- If the index label exists, the value will be updated\n",
    "- Bracket notation is context-dependent\n",
    "    - Returns a single element when used against a Pandas Series\n",
    "    - Returns a Pandas Series when used against a Pandas DataFrame\n",
    "\n",
    "**NOTE:** You can also use `.iloc` to access and update items in a Pandas Series using their index position\n",
    "- This assumes that the index is integer based"
   ]
  },
  {
   "cell_type": "code",
   "execution_count": 2,
   "metadata": {},
   "outputs": [
    {
     "name": "stdout",
     "output_type": "stream",
     "text": [
      "Before:\n",
      "0    10\n",
      "1    20\n",
      "2    30\n",
      "dtype: int64\n",
      "\n",
      "After:\n",
      "0    10\n",
      "1    25\n",
      "2    35\n",
      "dtype: int64\n",
      "\n",
      "Before:\n",
      "a    40\n",
      "b    50\n",
      "c    60\n",
      "dtype: int64\n",
      "\n",
      "After:\n",
      "a    40\n",
      "b    55\n",
      "c    60\n",
      "dtype: int64\n"
     ]
    }
   ],
   "source": [
    "import pandas as pd\n",
    "\n",
    "# Example 1: Using Default Index\n",
    "data1 = [10, 20, 30]\n",
    "s1 = pd.Series(data1)\n",
    "print(f\"Before:\\n{s1}\\n\")\n",
    "\n",
    "# Update value at index 2\n",
    "s1[1] = 25  # Using bracket notation\n",
    "s1.iloc[2] = 35  # Using iloc\n",
    "print(f\"After:\\n{s1}\\n\")\n",
    "\n",
    "\n",
    "# Example 2: Using Custom Index\n",
    "data2 = [40, 50, 60]\n",
    "idx = [\"a\", \"b\", \"c\"]\n",
    "s2 = pd.Series(data2, index=idx)\n",
    "print(f\"Before:\\n{s2}\\n\")\n",
    "\n",
    "# Update value at index 'b'\n",
    "s2[\"b\"] = 55\n",
    "print(f\"After:\\n{s2}\")"
   ]
  },
  {
   "cell_type": "markdown",
   "metadata": {},
   "source": [
    "### Update Items Using Label Positions\n",
    "\n",
    "Can also use `.loc` to access and update items in a Pandas Series using their index label"
   ]
  },
  {
   "cell_type": "code",
   "execution_count": 76,
   "metadata": {},
   "outputs": [
    {
     "name": "stdout",
     "output_type": "stream",
     "text": [
      "a    10\n",
      "b    20\n",
      "c    35\n",
      "dtype: int64\n"
     ]
    }
   ],
   "source": [
    "import pandas as pd\n",
    "\n",
    "# Existing Series\n",
    "data = [10, 20, 30]\n",
    "index = [\"a\", \"b\", \"c\"]\n",
    "series = pd.Series(data, index=index)\n",
    "\n",
    "# Update value at index 'c'\n",
    "series.loc[\"c\"] = 35\n",
    "\n",
    "print(series)"
   ]
  },
  {
   "cell_type": "markdown",
   "metadata": {},
   "source": [
    "## Deleting Items from a Pandas Series\n",
    "\n",
    "### Using `.drop()`\n",
    "\n",
    "You can use the `.drop()` method to remove items from a Pandas Series based on their index label\n",
    "- By default, the `.drop()` method returns a new Series\n",
    "- If you want to keep the original Series, you can set the `inplace` parameter to `True`"
   ]
  },
  {
   "cell_type": "code",
   "execution_count": 9,
   "metadata": {},
   "outputs": [
    {
     "name": "stdout",
     "output_type": "stream",
     "text": [
      "Original Series:\n",
      "0    10\n",
      "1    20\n",
      "2    30\n",
      "dtype: int64\n",
      "\n",
      "Series after dropping value at index 1:\n",
      "0    10\n",
      "2    30\n",
      "dtype: int64\n"
     ]
    }
   ],
   "source": [
    "import pandas as pd\n",
    "\n",
    "# Existing Series\n",
    "data = [10, 20, 30]\n",
    "series = pd.Series(data)\n",
    "\n",
    "print(\"Original Series:\")\n",
    "print(series)\n",
    "\n",
    "# Drop value at index 1\n",
    "series = series.drop(1)\n",
    "\n",
    "print(\"\\nSeries after dropping value at index 1:\")\n",
    "print(series)"
   ]
  },
  {
   "cell_type": "markdown",
   "metadata": {},
   "source": [
    "\n",
    "### Using `.pop()`\n",
    "\n",
    "You can use the `.pop()` method to remove items from a Pandas Series based on their index position\n",
    "- By default, the `.pop()` method returns the removed item\n",
    "- If you want to keep the original Series, you can set the `inplace` parameter to `True`"
   ]
  },
  {
   "cell_type": "code",
   "execution_count": 8,
   "metadata": {},
   "outputs": [
    {
     "name": "stdout",
     "output_type": "stream",
     "text": [
      "Original Series:\n",
      "0    10\n",
      "1    20\n",
      "2    30\n",
      "dtype: int64\n",
      "\n",
      "Popped value:\n",
      "20\n"
     ]
    }
   ],
   "source": [
    "import pandas as pd\n",
    "\n",
    "# Existing Series\n",
    "data = [10, 20, 30]\n",
    "series = pd.Series(data)\n",
    "\n",
    "print(\"Original Series:\")\n",
    "print(series)\n",
    "\n",
    "# Pop off value at index 1\n",
    "popped = series.pop(1)\n",
    "\n",
    "print(\"\\nPopped value:\")\n",
    "print(popped)"
   ]
  },
  {
   "cell_type": "markdown",
   "metadata": {},
   "source": [
    "### Using `.dropna()`\n",
    "\n",
    "You can use the `.dropna()` method to remove items from a Pandas Series that contain `NaN` values\n",
    "- By default, the `.dropna()` method returns a new Series\n",
    "- If you want to keep the original Series, you can set the `inplace` parameter to `True`"
   ]
  },
  {
   "cell_type": "code",
   "execution_count": 7,
   "metadata": {},
   "outputs": [
    {
     "name": "stdout",
     "output_type": "stream",
     "text": [
      "Original Series:\n",
      "0    10.0\n",
      "1     NaN\n",
      "2    20.0\n",
      "3     NaN\n",
      "4    30.0\n",
      "dtype: float64\n",
      "\n",
      "Series after using dropna():\n",
      "0    10.0\n",
      "2    20.0\n",
      "4    30.0\n",
      "dtype: float64\n"
     ]
    }
   ],
   "source": [
    "import numpy as np\n",
    "import pandas as pd\n",
    "\n",
    "# Existing Series\n",
    "data = [10, np.nan, 20, np.nan, 30]\n",
    "series = pd.Series(data)\n",
    "\n",
    "print(\"Original Series:\")\n",
    "print(series)\n",
    "\n",
    "# Using dropna() to remove NaN values\n",
    "clean_series = series.dropna()\n",
    "\n",
    "print(\"\\nSeries after using dropna():\")\n",
    "print(clean_series)"
   ]
  },
  {
   "cell_type": "markdown",
   "metadata": {},
   "source": [
    "### Using Boolean Indexing\n",
    "\n",
    "You can use boolean indexing to remove items from a Pandas Series by filtering based on a condition"
   ]
  },
  {
   "cell_type": "code",
   "execution_count": 13,
   "metadata": {},
   "outputs": [
    {
     "name": "stdout",
     "output_type": "stream",
     "text": [
      "Original Series:\n",
      "0     0\n",
      "1    10\n",
      "2    20\n",
      "3    30\n",
      "4    40\n",
      "5    50\n",
      "dtype: int64\n",
      "\n",
      "Updated Series after deleting elements greater than 20:\n",
      "0     0\n",
      "1    10\n",
      "2    20\n",
      "dtype: int64\n"
     ]
    }
   ],
   "source": [
    "import pandas as pd\n",
    "\n",
    "# Creating a pandas Series\n",
    "data = [0, 10, 20, 30, 40, 50]\n",
    "series = pd.Series(data)\n",
    "\n",
    "print(\"Original Series:\")\n",
    "print(series)\n",
    "\n",
    "# Find out indices of elements greater than 20\n",
    "series = series[series <= 20]\n",
    "\n",
    "print(\"\\nUpdated Series after deleting elements greater than 20:\")\n",
    "print(series)"
   ]
  },
  {
   "cell_type": "markdown",
   "metadata": {},
   "source": [
    "## Sorting Items in a Pandas Series\n",
    "\n",
    "### Sort by Index\n",
    "\n",
    "Use `.sort_index()` to sort items in a Pandas Series in ascending or descending order\n",
    "- By default, the `.sort_index()` method sorts items in ascending order\n",
    "- You can set the `ascending` parameter to `False` to sort in descending order"
   ]
  },
  {
   "cell_type": "code",
   "execution_count": 17,
   "metadata": {},
   "outputs": [
    {
     "name": "stdout",
     "output_type": "stream",
     "text": [
      "Original Series:\n",
      "d    10\n",
      "b    30\n",
      "c    20\n",
      "a    40\n",
      "dtype: int64\n",
      "\n",
      "Series sorted by index (ascending):\n",
      "a    40\n",
      "b    30\n",
      "c    20\n",
      "d    10\n",
      "dtype: int64\n",
      "\n",
      "Series sorted by index (descending):\n",
      "d    10\n",
      "c    20\n",
      "b    30\n",
      "a    40\n",
      "dtype: int64\n"
     ]
    }
   ],
   "source": [
    "import pandas as pd\n",
    "\n",
    "# Creating a pandas Series\n",
    "data = [10, 30, 20, 40]\n",
    "index = [\"d\", \"b\", \"c\", \"a\"]\n",
    "series = pd.Series(data, index=index)\n",
    "\n",
    "print(\"Original Series:\")\n",
    "print(series)\n",
    "\n",
    "# Sorting by index\n",
    "sorted_series_index_asc = series.sort_index()\n",
    "sorted_series_index_desc = series.sort_index(ascending=False)\n",
    "\n",
    "print(\"\\nSeries sorted by index (ascending):\")\n",
    "print(sorted_series_index_asc)\n",
    "\n",
    "print(\"\\nSeries sorted by index (descending):\")\n",
    "print(sorted_series_index_desc)"
   ]
  },
  {
   "cell_type": "markdown",
   "metadata": {},
   "source": [
    "### Sort by Values\n",
    "\n",
    "Use `.sort_values()` to sort items in a Pandas Series in ascending or descending order\n",
    "- By default, the `.sort_values()` method sorts items in ascending order\n",
    "- You can set the `ascending` parameter to `False` to sort in descending order"
   ]
  },
  {
   "cell_type": "code",
   "execution_count": 16,
   "metadata": {},
   "outputs": [
    {
     "name": "stdout",
     "output_type": "stream",
     "text": [
      "Original Series:\n",
      "0    30\n",
      "1    10\n",
      "2    40\n",
      "3    20\n",
      "dtype: int64\n",
      "\n",
      "Series sorted by values (ascending):\n",
      "1    10\n",
      "3    20\n",
      "0    30\n",
      "2    40\n",
      "dtype: int64\n",
      "\n",
      "Series sorted by values (descending):\n",
      "2    40\n",
      "0    30\n",
      "3    20\n",
      "1    10\n",
      "dtype: int64\n"
     ]
    }
   ],
   "source": [
    "import pandas as pd\n",
    "\n",
    "# Creating a pandas Series\n",
    "data = [30, 10, 40, 20]\n",
    "series = pd.Series(data)\n",
    "\n",
    "print(\"Original Series:\")\n",
    "print(series)\n",
    "\n",
    "# Sorting by values\n",
    "sorted_series_asc = series.sort_values()\n",
    "sorted_series_desc = series.sort_values(ascending=False)\n",
    "\n",
    "print(\"\\nSeries sorted by values (ascending):\")\n",
    "print(sorted_series_asc)\n",
    "\n",
    "print(\"\\nSeries sorted by values (descending):\")\n",
    "print(sorted_series_desc)"
   ]
  },
  {
   "cell_type": "markdown",
   "metadata": {},
   "source": [
    "## Filtering Items in a Pandas Series\n",
    "\n",
    "### Using Boolen Indexing\n",
    "\n",
    "Use boolean indexing to filter items in a Pandas Series\n",
    "- The boolean indexing operator `[]` is used to filter items in a Pandas Series\n",
    "- Apply a condition that returns a boolean series to filter items in a Pandas Series"
   ]
  },
  {
   "cell_type": "code",
   "execution_count": 18,
   "metadata": {},
   "outputs": [
    {
     "name": "stdout",
     "output_type": "stream",
     "text": [
      "Original Series:\n",
      "a    10\n",
      "b    30\n",
      "c    20\n",
      "d    40\n",
      "dtype: int64\n",
      "\n",
      "Filtered Series (values greater than 20):\n",
      "b    30\n",
      "d    40\n",
      "dtype: int64\n"
     ]
    }
   ],
   "source": [
    "import pandas as pd\n",
    "\n",
    "# Creating a pandas Series\n",
    "data = [10, 30, 20, 40]\n",
    "index = [\"a\", \"b\", \"c\", \"d\"]\n",
    "series = pd.Series(data, index=index)\n",
    "\n",
    "print(\"Original Series:\")\n",
    "print(series)\n",
    "\n",
    "# Filter out values greater than 20\n",
    "filtered_series = series[series > 20]\n",
    "\n",
    "print(\"\\nFiltered Series (values greater than 20):\")\n",
    "print(filtered_series)"
   ]
  },
  {
   "cell_type": "markdown",
   "metadata": {},
   "source": [
    "### Filtering Series with Multiple Conditions\n",
    "\n",
    "Use multiple conditions to filter items in a Pandas Series\n",
    "- The `&` and `|` operators are used to combine multiple conditions\n",
    "- The `~` operator is used to negate a condition"
   ]
  },
  {
   "cell_type": "code",
   "execution_count": 20,
   "metadata": {},
   "outputs": [
    {
     "name": "stdout",
     "output_type": "stream",
     "text": [
      "Original Series:\n",
      "0     0\n",
      "1    10\n",
      "2    20\n",
      "3    30\n",
      "4    40\n",
      "5    50\n",
      "dtype: int64\n",
      "\n",
      "Filtered Series (values greater than 20 and less than 50):\n",
      "3    30\n",
      "4    40\n",
      "dtype: int64\n"
     ]
    }
   ],
   "source": [
    "import pandas as pd\n",
    "\n",
    "# Creating a pandas Series\n",
    "data = [0, 10, 20, 30, 40, 50]\n",
    "series = pd.Series(data)\n",
    "\n",
    "print(\"Original Series:\")\n",
    "print(series)\n",
    "\n",
    "# Filter out values greater than 20 and less than 50\n",
    "filtered_series = series[(series > 20) & (series < 50)]\n",
    "\n",
    "print(\"\\nFiltered Series (values greater than 20 and less than 50):\")\n",
    "print(filtered_series)"
   ]
  },
  {
   "cell_type": "markdown",
   "metadata": {},
   "source": [
    "### Using `dropna()` to Filter Out NaN Values\n",
    "\n",
    "Use the `dropna()` method to filter out NaN values from a Pandas Series\n",
    "- The `dropna()` method removes all NaN values from a Pandas Series\n",
    "- The `inplace` parameter is set to `True` to remove the NaN values from the original Series"
   ]
  },
  {
   "cell_type": "code",
   "execution_count": 21,
   "metadata": {},
   "outputs": [
    {
     "name": "stdout",
     "output_type": "stream",
     "text": [
      "Original Series with NaN values:\n",
      "0    10.0\n",
      "1     NaN\n",
      "2    20.0\n",
      "3     NaN\n",
      "4    30.0\n",
      "5    40.0\n",
      "dtype: float64\n",
      "\n",
      "Filtered Series (without NaN values):\n",
      "0    10.0\n",
      "2    20.0\n",
      "4    30.0\n",
      "5    40.0\n",
      "dtype: float64\n"
     ]
    }
   ],
   "source": [
    "import numpy as np\n",
    "\n",
    "# Creating a pandas Series with NaN values\n",
    "data = [10, np.nan, 20, np.nan, 30, 40]\n",
    "series = pd.Series(data)\n",
    "\n",
    "print(\"Original Series with NaN values:\")\n",
    "print(series)\n",
    "\n",
    "# Filter out NaN values\n",
    "filtered_series = series.dropna()\n",
    "\n",
    "print(\"\\nFiltered Series (without NaN values):\")\n",
    "print(filtered_series)"
   ]
  },
  {
   "cell_type": "markdown",
   "metadata": {},
   "source": [
    "### Using the `query()` Method\n",
    "\n",
    "Although `query()` is more commonly used with DataFrames, it can be adapted for Pandas Series by converting the Series to a DataFrame first"
   ]
  },
  {
   "cell_type": "code",
   "execution_count": 22,
   "metadata": {},
   "outputs": [
    {
     "name": "stdout",
     "output_type": "stream",
     "text": [
      "Original Series:\n",
      "0    10\n",
      "1    20\n",
      "2    30\n",
      "3    40\n",
      "dtype: int64\n",
      "\n",
      "Filtered DataFrame (values greater than 20):\n",
      "   values\n",
      "2      30\n",
      "3      40\n"
     ]
    }
   ],
   "source": [
    "import pandas as pd\n",
    "\n",
    "# Creating a pandas Series\n",
    "data = [10, 20, 30, 40]\n",
    "series = pd.Series(data)\n",
    "\n",
    "print(\"Original Series:\")\n",
    "print(series)\n",
    "\n",
    "# Convert the series to a DataFrame to use the query method\n",
    "df = series.to_frame(name=\"values\")\n",
    "\n",
    "# Filter out values greater than 20\n",
    "filtered_df = df.query(\"values > 20\")\n",
    "\n",
    "print(\"\\nFiltered DataFrame (values greater than 20):\")\n",
    "print(filtered_df)"
   ]
  },
  {
   "cell_type": "markdown",
   "metadata": {},
   "source": [
    "## Iterating Through Items in a Pandas Series\n",
    "\n",
    "### Using a `for` Loop\n",
    "\n",
    "Use a `for` loop to iterate through items in a Pandas Series"
   ]
  },
  {
   "cell_type": "code",
   "execution_count": 24,
   "metadata": {},
   "outputs": [
    {
     "name": "stdout",
     "output_type": "stream",
     "text": [
      "Iterating through values in the series:\n",
      "10\n",
      "30\n",
      "20\n",
      "40\n"
     ]
    }
   ],
   "source": [
    "import pandas as pd\n",
    "\n",
    "# Creating a pandas Series\n",
    "data = [10, 30, 20, 40]\n",
    "series = pd.Series(data)\n",
    "\n",
    "print(\"Iterating through values in the series:\")\n",
    "for value in series:\n",
    "    print(value)"
   ]
  },
  {
   "cell_type": "markdown",
   "metadata": {},
   "source": [
    "### Using the `items()` Method\n",
    "\n",
    "Use the `items()` method to iterate through items in a Pandas Series\n",
    "- The `items()` method returns a tuple of (index, value) for each item in the Series"
   ]
  },
  {
   "cell_type": "code",
   "execution_count": 26,
   "metadata": {},
   "outputs": [
    {
     "name": "stdout",
     "output_type": "stream",
     "text": [
      "Iterating through index and values in the series:\n",
      "Index: 0, Value: 10\n",
      "Index: 1, Value: 30\n",
      "Index: 2, Value: 20\n",
      "Index: 3, Value: 40\n"
     ]
    }
   ],
   "source": [
    "import pandas as pd\n",
    "\n",
    "# Creating a pandas Series\n",
    "data = [10, 30, 20, 40]\n",
    "series = pd.Series(data)\n",
    "\n",
    "print(\"Iterating through index and values in the series:\")\n",
    "for idx, value in series.items():\n",
    "    print(f\"Index: {idx}, Value: {value}\")"
   ]
  },
  {
   "cell_type": "markdown",
   "metadata": {},
   "source": [
    "## Apply Functions to Items in a Pandas Series"
   ]
  },
  {
   "cell_type": "code",
   "execution_count": 43,
   "metadata": {},
   "outputs": [
    {
     "name": "stdout",
     "output_type": "stream",
     "text": [
      "Original Series:\n",
      "0    10\n",
      "1    20\n",
      "2    30\n",
      "3    40\n",
      "4    50\n",
      "5    50\n",
      "dtype: int64\n",
      "Series after applying function:\n",
      "0     20\n",
      "1     40\n",
      "2     60\n",
      "3     80\n",
      "4    100\n",
      "5    100\n",
      "dtype: int64\n"
     ]
    }
   ],
   "source": [
    "import pandas as pd\n",
    "\n",
    "# Create a series from a list\n",
    "data = [10, 20, 30, 40, 50, 50]\n",
    "s = pd.Series(data)\n",
    "print(f\"Original Series:\\n{s}\")\n",
    "\n",
    "\n",
    "# Create a function that multiplies each value in the series by 2\n",
    "def multiply_by_2(x):\n",
    "    return x * 2\n",
    "\n",
    "\n",
    "# Apply the function to each value in the series\n",
    "s = s.apply(multiply_by_2)\n",
    "\n",
    "print(f\"Series after applying function:\\n{s}\")"
   ]
  },
  {
   "cell_type": "markdown",
   "metadata": {},
   "source": [
    "## Resources / References\n",
    "- [pandas.Series](https://pandas.pydata.org/pandas-docs/stable/reference/api/pandas.Series.html)"
   ]
  }
 ],
 "metadata": {
  "kernelspec": {
   "display_name": ".venv",
   "language": "python",
   "name": "python3"
  },
  "language_info": {
   "codemirror_mode": {
    "name": "ipython",
    "version": 3
   },
   "file_extension": ".py",
   "mimetype": "text/x-python",
   "name": "python",
   "nbconvert_exporter": "python",
   "pygments_lexer": "ipython3",
   "version": "3.12.4"
  }
 },
 "nbformat": 4,
 "nbformat_minor": 2
}
